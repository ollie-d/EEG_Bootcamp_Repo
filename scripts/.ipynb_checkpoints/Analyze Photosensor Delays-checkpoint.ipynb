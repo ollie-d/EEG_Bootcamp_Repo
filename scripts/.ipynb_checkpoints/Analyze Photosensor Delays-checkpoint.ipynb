{
 "cells": [
  {
   "cell_type": "markdown",
   "id": "3fe4b6d6",
   "metadata": {},
   "source": [
    "This is a very simple notebook that loads in recordings of 100 photosensor-only trials in order to compute the average delay between an LSL marker and stimulus onset. We can use these delays for each subject, since it seems to be monitor-specific, to account for the delay and produce ERPs locked to a more correct time.\n",
    "<br><br>\n",
    "Given the jitter in this being within 1 frame to +/- 1 frame, I think using a generic correction will be fine. Due to the error in the OpenBCI Analog and/or LSL widget, the sampling rate of the photosensor is significantly lower than what the EEG would be. This means that even if we were to record EEG + Photosensor on every trial, this stack would not be sufficient to correct the data accurately, although it would still be accurate to the frame level since our monitors were only 60 Hz (despite the raw XDF files incorrectly stating they were 165, which is my bad)"
   ]
  },
  {
   "cell_type": "code",
   "execution_count": null,
   "id": "15a28815",
   "metadata": {},
   "outputs": [],
   "source": [
    "import ezbci as ez\n",
    "import numpy as np\n",
    "import matplotlib.pyplot as plt\n",
    "import pyxdf"
   ]
  },
  {
   "cell_type": "code",
   "execution_count": null,
   "id": "eddbe273",
   "metadata": {},
   "outputs": [],
   "source": [
    "data_dir = '../data/Photosensor/'\n",
    "\n",
    "for i in range(1, 4):\n",
    "    # Load data\n",
    "    fname = f'00{i}_Photosensor.xdf'\n",
    "    raw = ez.loadxdf(f'{data_dir}{fname}', False)\n",
    "\n",
    "    # Note that the sampling rate is NOT 250 Hz due to a bug with OpenBCI GUI\n",
    "    # (this bug should have been fixed in ~2020 but apparently has not)\n",
    "    effective_srate = 1/np.mean(raw[\"eeg_time\"][1:] - raw[\"eeg_time\"][0:-1])\n",
    "    print(f'Effective srate: {effective_srate}')\n",
    "    raw['fs'] = effective_srate\n",
    "\n",
    "    # Once sampling rate has been corrected, epoch the data\n",
    "    epoch = ez.epoch(raw, -100, 1000, -100, 100, '0', r'S_.*')\n",
    "\n",
    "    # Plot all data and compute average/std\n",
    "    plt.figure()\n",
    "    ax = plt.axes()\n",
    "    ax.set_facecolor('white')\n",
    "    onset_times = []\n",
    "    stim_durations = []\n",
    "    for i in range(epoch['bin_data'].shape[2]):\n",
    "        # Find first place where non-zero:\n",
    "        onset = np.where(epoch['bin_data'][0, :, i] != 0)[0][0]\n",
    "        offset = np.where(epoch['bin_data'][0, :, i] != 0)[0][-1]\n",
    "        onset_time = epoch['bin_times'][onset]\n",
    "        offset_time = epoch['bin_times'][offset]\n",
    "        onset_times.append(onset_time)\n",
    "        stim_durations.append(offset_time - onset_time)\n",
    "        plt.plot(epoch['bin_times'][:-1], epoch['bin_data'][0, :, i])\n",
    "\n",
    "    # Compute stats, apply to plots\n",
    "    plt.title(fname)\n",
    "    avg_onset = np.mean(onset_times)\n",
    "    std_onset = np.std(onset_times, ddof=1)\n",
    "    avg_duration = np.mean(stim_durations)\n",
    "    std_duration = np.std(stim_durations, ddof=1)\n",
    "    plt.text(-50, 45, f'avg onset time: {round(avg_onset, 2)}ms')\n",
    "    plt.text(-50, 42, f'  std: {round(std_onset, 2)}ms')\n",
    "    plt.text(-50, 35, f'avg stim duration: {round(avg_duration, 2)}ms')\n",
    "    plt.text(-50, 32, f'  std: {round(std_duration, 2)}ms')"
   ]
  }
 ],
 "metadata": {
  "kernelspec": {
   "display_name": "Python 3 (ipykernel)",
   "language": "python",
   "name": "python3"
  },
  "language_info": {
   "codemirror_mode": {
    "name": "ipython",
    "version": 3
   },
   "file_extension": ".py",
   "mimetype": "text/x-python",
   "name": "python",
   "nbconvert_exporter": "python",
   "pygments_lexer": "ipython3",
   "version": "3.11.0"
  }
 },
 "nbformat": 4,
 "nbformat_minor": 5
}
